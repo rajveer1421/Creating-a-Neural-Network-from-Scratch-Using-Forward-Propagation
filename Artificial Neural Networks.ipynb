{
 "cells": [
  {
   "cell_type": "markdown",
   "metadata": {},
   "source": [
    "Coding for a general network that would take $n$ inputs, would have many hidden layers, each hidden layer having $m$ nodes, and would have an output layer. Although the network is showing one hidden layer, but I have coded the network to have many hidden layers. Similarly, although the network shows an output layer with one node, I coded the network to have more than one node in the output layer.\n"
   ]
  },
  {
   "cell_type": "markdown",
   "metadata": {},
   "source": [
    "<img src=\"http://cocl.us/general_neural_network\" alt=\"Neural Network General\" width=\"600px\">\n"
   ]
  },
  {
   "cell_type": "markdown",
   "metadata": {},
   "source": [
    "<a id='item12'></a>\n"
   ]
  },
  {
   "cell_type": "markdown",
   "metadata": {},
   "source": [
    "## Build a Neural Network\n"
   ]
  },
  {
   "cell_type": "code",
   "execution_count": 1,
   "metadata": {},
   "outputs": [],
   "source": [
    "n = 2 \n",
    "num_hidden_layers = 2 \n",
    "m = [3, 2] \n",
    "num_nodes_output = 1 "
   ]
  },
  {
   "cell_type": "code",
   "execution_count": 2,
   "metadata": {},
   "outputs": [
    {
     "name": "stdout",
     "output_type": "stream",
     "text": [
      "{'layer_0': {'node_0': {'weight': array([0.92, 0.8 ]), 'bias': array([0.42])}, 'node_1': {'weight': array([0.87, 0.52]), 'bias': array([0.04])}, 'node_2': {'weight': array([0.98, 0.72]), 'bias': array([0.81])}}, 'layer_1': {'node_0': {'weight': array([0.05, 0.38, 0.68]), 'bias': array([0.06])}, 'node_1': {'weight': array([0.1 , 0.46, 0.12]), 'bias': array([0.36])}}, 'output_layer': {'node_0': {'weight': array([0.62, 0.83]), 'bias': array([0.18])}}}\n"
     ]
    }
   ],
   "source": [
    "import numpy as np\n",
    "previous_num_nodes=n\n",
    "network={} \n",
    "for layer in range(num_hidden_layers+1):\n",
    "    if layer==num_hidden_layers:\n",
    "        layer_name='output_layer'\n",
    "        num_nodes_layer=num_nodes_output\n",
    "    else:\n",
    "        layer_name='layer_{}'.format(layer)\n",
    "        num_nodes_layer=m[layer]\n",
    "    network[layer_name]={}\n",
    "    for node in range(num_nodes_layer):\n",
    "        node_name='node_{}'.format(node)\n",
    "        network[layer_name][node_name]={'weight':np.around(np.random.uniform(size=previous_num_nodes),decimals=2),\n",
    "                                        'bias':np.around(np.random.uniform(size=1),decimals=2)}\n",
    "    previous_num_nodes=num_nodes_layer\n",
    "print(network)"
   ]
  },
  {
   "cell_type": "markdown",
   "metadata": {},
   "source": [
    "### Initializing The Network"
   ]
  },
  {
   "cell_type": "code",
   "execution_count": 4,
   "metadata": {},
   "outputs": [],
   "source": [
    "def initialize_network(num_inputs, num_hidden_layers, num_nodes_hidden, num_nodes_output):\n",
    "    num_previous_nodes=num_inputs\n",
    "    network={}\n",
    "    for layer in range(num_hidden_layers+1):\n",
    "        if layer==num_hidden_layers:\n",
    "            layer_name='output_layer'\n",
    "            num_nodes_layer=num_nodes_output\n",
    "        else:\n",
    "            layer_name='layer_{}'.format(layer)\n",
    "            num_nodes_layer=num_nodes_hidden[layer]\n",
    "        network[layer_name]={}\n",
    "        for node in range(num_nodes_layer):\n",
    "            node_name='node_{}'.format(node)\n",
    "            network[layer_name][node_name]={'weights':np.around(np.random.uniform(size=num_previous_nodes),decimals=2),\n",
    "                                           'bias':np.around(np.random.uniform(size=1),decimals=2)}\n",
    "        num_previous_nodes=num_nodes_layer\n",
    "    return network"
   ]
  },
  {
   "cell_type": "code",
   "execution_count": 5,
   "metadata": {},
   "outputs": [],
   "source": [
    "small_network=initialize_network(5,3,[3,2,3],1)"
   ]
  },
  {
   "cell_type": "markdown",
   "metadata": {},
   "source": [
    "### Compute Weighted Sum"
   ]
  },
  {
   "cell_type": "code",
   "execution_count": 7,
   "metadata": {},
   "outputs": [],
   "source": [
    "def compute_weighted_sum(inputs,weights,bias):\n",
    "    return np.sum(inputs*weights)+bias"
   ]
  },
  {
   "cell_type": "markdown",
   "metadata": {},
   "source": [
    "<a id='item14'></a>\n"
   ]
  },
  {
   "cell_type": "markdown",
   "metadata": {},
   "source": [
    "## Compute Node Activation\n"
   ]
  },
  {
   "cell_type": "code",
   "execution_count": 8,
   "metadata": {},
   "outputs": [],
   "source": [
    "def node_activation(weighted_sum):\n",
    "    return 1.0/1.0+np.exp(-1*weighted_sum)"
   ]
  },
  {
   "cell_type": "markdown",
   "metadata": {},
   "source": [
    "## Forward Propagation\n"
   ]
  },
  {
   "cell_type": "code",
   "execution_count": 9,
   "metadata": {},
   "outputs": [],
   "source": [
    "def forward_propagate(network, inputs):\n",
    "    current_inputs = inputs\n",
    "    for layer_name in network:\n",
    "        layer = network[layer_name]\n",
    "        next_inputs = []\n",
    "        for node_name in layer:\n",
    "            node = layer[node_name]\n",
    "            weighted_sum = compute_weighted_sum(current_inputs, node['weights'], node['bias'])\n",
    "            activated_sum = node_activation(weighted_sum)\n",
    "            next_inputs.append(activated_sum)\n",
    "        current_inputs = next_inputs\n",
    "    return current_inputs\n"
   ]
  },
  {
   "cell_type": "markdown",
   "metadata": {},
   "source": [
    "### Testing The Network"
   ]
  },
  {
   "cell_type": "code",
   "execution_count": 13,
   "metadata": {},
   "outputs": [
    {
     "name": "stdout",
     "output_type": "stream",
     "text": [
      "[array([1.00357289])]\n"
     ]
    }
   ],
   "source": [
    "inputs=np.around(np.random.uniform(5),decimals=2)\n",
    "output = forward_propagate(small_network, inputs)\n",
    "print(output)"
   ]
  },
  {
   "cell_type": "code",
   "execution_count": 101,
   "metadata": {},
   "outputs": [],
   "source": [
    "my_network = initialize_network(5, 3, [2, 3, 2], 3)"
   ]
  },
  {
   "cell_type": "code",
   "execution_count": 102,
   "metadata": {},
   "outputs": [],
   "source": [
    "inputs = np.around(np.random.uniform(size=5), decimals=2)"
   ]
  },
  {
   "cell_type": "code",
   "execution_count": 103,
   "metadata": {},
   "outputs": [
    {
     "name": "stdout",
     "output_type": "stream",
     "text": [
      "The predicted values by the network for the given input are [array([1.01985338]), array([1.05300287]), array([1.05036972])]\n"
     ]
    }
   ],
   "source": [
    "predictions = forward_propagate(my_network, inputs)\n",
    "print('The predicted values by the network for the given input are {}'.format(predictions))"
   ]
  }
 ],
 "metadata": {
  "kernelspec": {
   "display_name": "Python 3 (ipykernel)",
   "language": "python",
   "name": "python3"
  },
  "language_info": {
   "codemirror_mode": {
    "name": "ipython",
    "version": 3
   },
   "file_extension": ".py",
   "mimetype": "text/x-python",
   "name": "python",
   "nbconvert_exporter": "python",
   "pygments_lexer": "ipython3",
   "version": "3.12.7"
  },
  "prev_pub_hash": "2854def07a921578284c6bf1661892dadf79c0fb12b6b571d2349a3c1f66cc8b"
 },
 "nbformat": 4,
 "nbformat_minor": 4
}
